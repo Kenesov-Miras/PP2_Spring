{
 "cells": [
  {
   "cell_type": "markdown",
   "id": "6932bbc7-938d-4f39-97b6-96400e3eff6a",
   "metadata": {},
   "source": [
    "task_1"
   ]
  },
  {
   "cell_type": "code",
   "execution_count": 3,
   "id": "93e2e8c5-938e-4ee4-a118-8eff6e241f2f",
   "metadata": {},
   "outputs": [
    {
     "name": "stdout",
     "output_type": "stream",
     "text": [
      "Pattern found!\n"
     ]
    }
   ],
   "source": [
    "import re\n",
    "\n",
    "txt = \"abbb\"\n",
    "pattern = \"a*b\"\n",
    "\n",
    "if re.search(pattern, txt):\n",
    "    print(\"Pattern found!\")\n",
    "else:\n",
    "    print(\"Pattern not found.\")"
   ]
  },
  {
   "cell_type": "markdown",
   "id": "3defdb4f-6050-4cf5-92a0-d0ee8dd3682e",
   "metadata": {},
   "source": [
    "task_2"
   ]
  },
  {
   "cell_type": "code",
   "execution_count": 12,
   "id": "02d86811-a533-4d41-ab4f-8759034b3e47",
   "metadata": {},
   "outputs": [
    {
     "name": "stdout",
     "output_type": "stream",
     "text": [
      "Pattern not found.\n"
     ]
    }
   ],
   "source": [
    "import re\n",
    "\n",
    "txt = \"ab\"\n",
    "pattern = \"ab{2,3}\"\n",
    "\n",
    "if re.search(pattern, txt):\n",
    "    print(\"Pattern found!\")\n",
    "else:\n",
    "    print(\"Pattern not found.\")"
   ]
  },
  {
   "cell_type": "markdown",
   "id": "82ae6f1c-cb42-4a43-82c8-6445830db417",
   "metadata": {},
   "source": [
    "task_3"
   ]
  },
  {
   "cell_type": "code",
   "execution_count": 15,
   "id": "7670ef5f-1474-47dc-80d6-f411d2ecc1c7",
   "metadata": {},
   "outputs": [
    {
     "name": "stdout",
     "output_type": "stream",
     "text": [
      "['hello_world']\n"
     ]
    }
   ],
   "source": [
    "import re\n",
    "\n",
    "txt = \"hello_world\"\n",
    "\n",
    "matches = re.findall(\"[a-z]+_[a-z]*\", txt)\n",
    "\n",
    "print(matches)"
   ]
  },
  {
   "cell_type": "markdown",
   "id": "68d95797-6ca3-4f17-beed-f7ebca7dcb89",
   "metadata": {},
   "source": [
    "task_4"
   ]
  },
  {
   "cell_type": "code",
   "execution_count": 18,
   "id": "9233cfa9-a95f-4630-af8f-da5832de602f",
   "metadata": {},
   "outputs": [
    {
     "name": "stdout",
     "output_type": "stream",
     "text": [
      "['Hello', 'Miras']\n"
     ]
    }
   ],
   "source": [
    "import re\n",
    "\n",
    "txt = \"Hello Miras\"\n",
    "\n",
    "matches = re.findall(\"[A-Z][a-z]*\", txt)\n",
    "\n",
    "print(matches)"
   ]
  },
  {
   "cell_type": "markdown",
   "id": "a46a504d-f978-4b13-8fe3-910c0cdeec66",
   "metadata": {},
   "source": [
    "task_5"
   ]
  },
  {
   "cell_type": "code",
   "execution_count": 21,
   "id": "7d7415ed-8e43-46e4-98a6-7b70174fe6e4",
   "metadata": {},
   "outputs": [
    {
     "name": "stdout",
     "output_type": "stream",
     "text": [
      "['addjfb']\n"
     ]
    }
   ],
   "source": [
    "import re\n",
    "\n",
    "txt = \"addjfb\"\n",
    "\n",
    "matches = re.findall(\"a.*b$\",txt)\n",
    "\n",
    "print(matches)"
   ]
  },
  {
   "cell_type": "markdown",
   "id": "46618a69-fbfa-4fd9-9a7f-4af9fb10f5b0",
   "metadata": {},
   "source": [
    "task_6"
   ]
  },
  {
   "cell_type": "code",
   "execution_count": 24,
   "id": "c5628a91-6d98-49d2-8718-c3cd826ad826",
   "metadata": {},
   "outputs": [
    {
     "name": "stdout",
     "output_type": "stream",
     "text": [
      "Hello  world \n"
     ]
    }
   ],
   "source": [
    "import re\n",
    "\n",
    "txt = \"Hello, world.\"\n",
    "result = re.sub(\"[ ,.]\", \" \", txt)\n",
    "\n",
    "print(result)"
   ]
  },
  {
   "cell_type": "markdown",
   "id": "512edac1-7524-4642-a050-341b0a8de307",
   "metadata": {},
   "source": [
    "task_7"
   ]
  },
  {
   "cell_type": "code",
   "execution_count": null,
   "id": "7b6fc295-7f44-408e-997d-2e7fcf642310",
   "metadata": {},
   "outputs": [],
   "source": [
    "import re\n",
    "\n",
    "def snake_to_camel(text):\n",
    "    return re.sub(r'_([a-z])', lambda x: x.group(1).upper(), text)\n",
    "\n",
    "txt = \"hello_world_example\"\n",
    "result = snake_to_camel(txt)\n",
    "\n",
    "print(result)\n"
   ]
  },
  {
   "cell_type": "markdown",
   "id": "3e45585f-651a-4897-8f48-3536351187a9",
   "metadata": {},
   "source": [
    "task_8"
   ]
  },
  {
   "cell_type": "code",
   "execution_count": 29,
   "id": "c6a58faa-f3e7-4d4b-9c0f-0923c802e749",
   "metadata": {},
   "outputs": [
    {
     "name": "stdout",
     "output_type": "stream",
     "text": [
      "['Hello', 'World']\n"
     ]
    }
   ],
   "source": [
    "import re\n",
    "\n",
    "txt =\"HelloWorld\"\n",
    "result = re.findall(\"([A-Z][a-z]*)\", txt)\n",
    "\n",
    "print(result)"
   ]
  },
  {
   "cell_type": "markdown",
   "id": "c4416618-d302-4148-9cb2-7912ea69db25",
   "metadata": {},
   "source": [
    "task_9"
   ]
  },
  {
   "cell_type": "code",
   "execution_count": 34,
   "id": "fc0713f2-0b1b-4817-8130-424803847a4d",
   "metadata": {},
   "outputs": [
    {
     "name": "stdout",
     "output_type": "stream",
     "text": [
      "Hello World\n"
     ]
    }
   ],
   "source": [
    "import re\n",
    "\n",
    "txt = \"HelloWorld\"\n",
    "result = re.sub(\"(?<!^)(?=[A-Z])\", \" \", txt)\n",
    "\n",
    "print(result)"
   ]
  },
  {
   "cell_type": "markdown",
   "id": "a9e64c2f-9bd4-4c1d-bc59-4df60b8d6efa",
   "metadata": {},
   "source": [
    "task_10"
   ]
  },
  {
   "cell_type": "code",
   "execution_count": 39,
   "id": "60bab490-beca-4233-96b9-99b7684a2cda",
   "metadata": {},
   "outputs": [
    {
     "name": "stdout",
     "output_type": "stream",
     "text": [
      "hello_world_example\n"
     ]
    }
   ],
   "source": [
    "import re\n",
    "\n",
    "def camel_to_snake(text):\n",
    "    return re.sub(r'([a-z])([A-Z])', r'\\1_\\2', text).lower()\n",
    "\n",
    "txt = \"HelloWorldExample\"\n",
    "result = camel_to_snake(txt)\n",
    "\n",
    "print(result)"
   ]
  },
  {
   "cell_type": "code",
   "execution_count": null,
   "id": "1d078dfe-a301-4db6-b53b-4601a3ff9d9c",
   "metadata": {},
   "outputs": [],
   "source": []
  }
 ],
 "metadata": {
  "kernelspec": {
   "display_name": "anaconda-2024.02-py310",
   "language": "python",
   "name": "conda-env-anaconda-2024.02-py310-py"
  },
  "language_info": {
   "codemirror_mode": {
    "name": "ipython",
    "version": 3
   },
   "file_extension": ".py",
   "mimetype": "text/x-python",
   "name": "python",
   "nbconvert_exporter": "python",
   "pygments_lexer": "ipython3",
   "version": "3.10.14"
  }
 },
 "nbformat": 4,
 "nbformat_minor": 5
}
