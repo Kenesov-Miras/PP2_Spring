{
 "cells": [
  {
   "cell_type": "markdown",
   "id": "b497e4aa-6c03-498d-8411-9a2c23f48793",
   "metadata": {},
   "source": [
    "task_1"
   ]
  },
  {
   "cell_type": "code",
   "execution_count": 6,
   "id": "6de4ebd7-98aa-4aba-825b-21038e775bdb",
   "metadata": {},
   "outputs": [
    {
     "name": "stdin",
     "output_type": "stream",
     "text": [
      "size list: 1 2 3 4 5\n"
     ]
    },
    {
     "name": "stdout",
     "output_type": "stream",
     "text": [
      "120\n"
     ]
    }
   ],
   "source": [
    "size_list=input(\"size list:\")\n",
    "my_list=list(map(int,size_list.split()))\n",
    "multiplay=1\n",
    "for i in my_list:\n",
    "    multiplay*=i\n",
    "print(multiplay)"
   ]
  },
  {
   "cell_type": "markdown",
   "id": "3ce79f4e-4049-4f57-be72-fec0275a9ddd",
   "metadata": {},
   "source": [
    "task_2"
   ]
  },
  {
   "cell_type": "code",
   "execution_count": 3,
   "id": "322a1dbe-1b73-498d-beb7-594310766d7d",
   "metadata": {},
   "outputs": [
    {
     "name": "stdin",
     "output_type": "stream",
     "text": [
      "enter sentence: Miras\n"
     ]
    },
    {
     "name": "stdout",
     "output_type": "stream",
     "text": [
      "sum upper case: 1\n",
      "sum lower case: 4\n"
     ]
    }
   ],
   "source": [
    "def count_letters(letter):\n",
    "    upper=0\n",
    "    lower=0\n",
    "    for i in letter:\n",
    "        if i>=\"A\" and i<=\"Z\":\n",
    "            upper+=1\n",
    "        elif i>=\"a\" and i<='z':\n",
    "            lower+=1\n",
    "        else:\n",
    "            continue\n",
    "    print(\"sum upper case:\", upper)\n",
    "    print(\"sum lower case:\", lower)\n",
    "            \n",
    "soilem=str(input(\"enter sentence:\"))\n",
    "count_letters(soilem)"
   ]
  },
  {
   "cell_type": "markdown",
   "id": "a1910cd1-459d-4206-b2a8-b93f693fd9f1",
   "metadata": {},
   "source": [
    "task_3"
   ]
  },
  {
   "cell_type": "code",
   "execution_count": 8,
   "id": "0cb54f45-b474-4a2f-8783-3c697251bbd1",
   "metadata": {},
   "outputs": [
    {
     "name": "stdout",
     "output_type": "stream",
     "text": [
      "True\n",
      "False\n"
     ]
    }
   ],
   "source": [
    "def palindrome(s):\n",
    "    return s == s[::-1]\n",
    "\n",
    "print(palindrome(\"level\"))  \n",
    "print(palindrome(\"hello\"))  "
   ]
  },
  {
   "cell_type": "markdown",
   "id": "977ca75b-4d9a-41d5-83e9-07b49a8efa52",
   "metadata": {},
   "source": [
    "task_4"
   ]
  },
  {
   "cell_type": "code",
   "execution_count": null,
   "id": "8b1922c0-68a4-4b0c-910c-f448a37330cf",
   "metadata": {},
   "outputs": [
    {
     "name": "stdin",
     "output_type": "stream",
     "text": [
      "Enter milliseconds:  12000000\n"
     ]
    }
   ],
   "source": [
    "import math\n",
    "import time\n",
    "\n",
    "time_milliseconds = int(input(\"Enter milliseconds: \")) \n",
    "delay_milliseconds = int(input(\"Enter delay in milliseconds: \"))  \n",
    "\n",
    "time.sleep(delay_milliseconds / 1000)  \n",
    "\n",
    "result = math.sqrt(time_milliseconds)  \n",
    "print(f\"Square root of {time_milliseconds} after {delay_milliseconds} milliseconds is {result}\")\n"
   ]
  },
  {
   "cell_type": "markdown",
   "id": "a09f1fd4-72e1-48a8-8db4-29db70eb20eb",
   "metadata": {},
   "source": [
    "task_5"
   ]
  },
  {
   "cell_type": "code",
   "execution_count": 14,
   "id": "9cca56d1-ec5a-4fe6-bc91-9759e98aa431",
   "metadata": {},
   "outputs": [
    {
     "name": "stdout",
     "output_type": "stream",
     "text": [
      "False\n",
      "True\n"
     ]
    }
   ],
   "source": [
    "values = (True, True, False)\n",
    "print(all(values))  \n",
    "\n",
    "values = (True, True, True)\n",
    "print(all(values)) "
   ]
  }
 ],
 "metadata": {
  "kernelspec": {
   "display_name": "anaconda-2024.02-py310",
   "language": "python",
   "name": "conda-env-anaconda-2024.02-py310-py"
  },
  "language_info": {
   "codemirror_mode": {
    "name": "ipython",
    "version": 3
   },
   "file_extension": ".py",
   "mimetype": "text/x-python",
   "name": "python",
   "nbconvert_exporter": "python",
   "pygments_lexer": "ipython3",
   "version": "3.10.14"
  }
 },
 "nbformat": 4,
 "nbformat_minor": 5
}
