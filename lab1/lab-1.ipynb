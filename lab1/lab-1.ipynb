{
 "cells": [
  {
   "cell_type": "markdown",
   "id": "3997064e-2c82-41a3-8bdd-ee08a5c4bf5a",
   "metadata": {},
   "source": [
    "Ex_1"
   ]
  },
  {
   "cell_type": "code",
   "execution_count": 2,
   "id": "750e38e0-7305-4a21-9f4b-9e505afaf389",
   "metadata": {},
   "outputs": [
    {
     "name": "stdout",
     "output_type": "stream",
     "text": [
      "Hello, World!\n"
     ]
    }
   ],
   "source": [
    "print(\"Hello, World!\")"
   ]
  },
  {
   "cell_type": "markdown",
   "id": "f950153a-56ac-4a6c-8ee1-c91bdb4e071e",
   "metadata": {},
   "source": [
    "Ex_2"
   ]
  },
  {
   "cell_type": "code",
   "execution_count": 5,
   "id": "2cb8d8d6-6052-4fad-bc78-d83eb8cb0036",
   "metadata": {},
   "outputs": [
    {
     "name": "stdout",
     "output_type": "stream",
     "text": [
      "3.12.7 | packaged by Anaconda, Inc. | (main, Oct  4 2024, 13:17:27) [MSC v.1929 64 bit (AMD64)]\n"
     ]
    }
   ],
   "source": [
    "import sys\n",
    "\n",
    "print(sys.version)"
   ]
  },
  {
   "cell_type": "markdown",
   "id": "db001269-bb46-44b2-9c29-15ba4e88618b",
   "metadata": {},
   "source": [
    "Ex_3"
   ]
  },
  {
   "cell_type": "code",
   "execution_count": 15,
   "id": "84ef311b-636b-4a75-b5cb-3488d5c57070",
   "metadata": {},
   "outputs": [
    {
     "name": "stdout",
     "output_type": "stream",
     "text": [
      "Five is greater than two!\n"
     ]
    }
   ],
   "source": [
    "if 5 > 2:\n",
    "    print(\"Five is greater than two!\")"
   ]
  },
  {
   "cell_type": "markdown",
   "id": "d1f9db55-b8c4-4fac-a7c3-1b930bac757e",
   "metadata": {},
   "source": [
    "Ex_4"
   ]
  },
  {
   "cell_type": "code",
   "execution_count": 17,
   "id": "f6f6d95a-98b2-465b-8a04-4a7a852574b7",
   "metadata": {},
   "outputs": [],
   "source": [
    "#if 5 > 2:\n",
    "#print (\"Five is greater than two!\")"
   ]
  },
  {
   "cell_type": "markdown",
   "id": "aedca088-f12f-4d24-96a8-780dbec025a6",
   "metadata": {},
   "source": [
    "Ex_5"
   ]
  },
  {
   "cell_type": "code",
   "execution_count": 19,
   "id": "c172e0cf-6aa9-47b1-bce3-d15d1c5ed847",
   "metadata": {},
   "outputs": [
    {
     "name": "stdout",
     "output_type": "stream",
     "text": [
      "Five is greater than two!\n",
      "Five is greater than two!\n"
     ]
    }
   ],
   "source": [
    "if 5 > 2:\n",
    " print(\"Five is greater than two!\")\n",
    "if 5 > 2:\n",
    "        print(\"Five is greater than two!\")\n"
   ]
  },
  {
   "cell_type": "markdown",
   "id": "3bc8bd31-6bf0-4a5d-a69d-1ec44777f052",
   "metadata": {},
   "source": [
    "Ex_6"
   ]
  },
  {
   "cell_type": "code",
   "execution_count": 22,
   "id": "289d1dbd-4cab-4d95-b5b3-0f5a701689ef",
   "metadata": {},
   "outputs": [],
   "source": [
    "#if 5 > 2:\n",
    " #print(\"Five is greater than two!\")\n",
    "        #print(\"Five is greater than two!\")"
   ]
  },
  {
   "cell_type": "markdown",
   "id": "eb0fc01f-19e4-4a16-b005-57731ee1956d",
   "metadata": {},
   "source": [
    "Ex_6"
   ]
  },
  {
   "cell_type": "code",
   "execution_count": 25,
   "id": "c5f88179-2a8a-4e58-b106-ebccbe2ac5fd",
   "metadata": {},
   "outputs": [],
   "source": [
    "x = 5\n",
    "y = \"Hello, World!\""
   ]
  },
  {
   "cell_type": "markdown",
   "id": "6e1fcbda-c546-49e0-ae8c-35ea620ce40f",
   "metadata": {},
   "source": [
    "Ex_7"
   ]
  },
  {
   "cell_type": "code",
   "execution_count": 28,
   "id": "22a939d0-40e2-4292-a1fa-8d644a40b8a9",
   "metadata": {},
   "outputs": [
    {
     "name": "stdout",
     "output_type": "stream",
     "text": [
      "Hello, World!\n"
     ]
    }
   ],
   "source": [
    "#This is a comment.\n",
    "print(\"Hello, World!\")"
   ]
  },
  {
   "cell_type": "markdown",
   "id": "cba17962-1d26-4414-b166-840c7485e4c4",
   "metadata": {},
   "source": [
    "Ex_8"
   ]
  },
  {
   "cell_type": "code",
   "execution_count": 31,
   "id": "fff2e21d-9e02-4d89-b5f6-ec50ef5e8274",
   "metadata": {},
   "outputs": [
    {
     "name": "stdout",
     "output_type": "stream",
     "text": [
      "Hello, World!\n"
     ]
    }
   ],
   "source": [
    "print(\"Hello, World!\") #This is a comment"
   ]
  },
  {
   "cell_type": "markdown",
   "id": "d7594090-8584-4233-9ed2-cd3aa90d4d42",
   "metadata": {},
   "source": [
    "Ex_9"
   ]
  },
  {
   "cell_type": "code",
   "execution_count": 36,
   "id": "cea8a453-bb23-4ecf-a5c0-1299fe7769c0",
   "metadata": {},
   "outputs": [
    {
     "name": "stdout",
     "output_type": "stream",
     "text": [
      "Cheers, Mate!\n"
     ]
    }
   ],
   "source": [
    "#print(\"Hello, World!\")\n",
    "print(\"Cheers, Mate!\")"
   ]
  },
  {
   "cell_type": "markdown",
   "id": "31f491e3-393a-4340-8979-446f8a52b869",
   "metadata": {},
   "source": [
    "Ex_10"
   ]
  },
  {
   "cell_type": "code",
   "execution_count": 39,
   "id": "55edd555-437e-43cb-86b7-a4b83e82d7b5",
   "metadata": {},
   "outputs": [
    {
     "name": "stdout",
     "output_type": "stream",
     "text": [
      "Hello, World!\n"
     ]
    }
   ],
   "source": [
    "#This is a comment\n",
    "#wtitten in\n",
    "#more than just one line\n",
    "print(\"Hello, World!\")"
   ]
  },
  {
   "cell_type": "markdown",
   "id": "bd7be9fd-37f8-4ddc-9292-3826130a34f4",
   "metadata": {},
   "source": [
    "Ex_11"
   ]
  },
  {
   "cell_type": "code",
   "execution_count": 42,
   "id": "e8917ae8-91a7-4a0e-9dd3-ddc70369fdc2",
   "metadata": {},
   "outputs": [
    {
     "name": "stdout",
     "output_type": "stream",
     "text": [
      "Hello, World!\n"
     ]
    }
   ],
   "source": [
    "\"\"\"\n",
    "This is a comment\n",
    "written in\n",
    "more than just one line\n",
    "\"\"\"\n",
    "print(\"Hello, World!\")"
   ]
  },
  {
   "cell_type": "markdown",
   "id": "50ff0249-0010-42c9-b724-73782857883c",
   "metadata": {},
   "source": [
    "Ex_12"
   ]
  },
  {
   "cell_type": "code",
   "execution_count": 45,
   "id": "e811c405-4b67-4661-a6e6-6ab16697f9d6",
   "metadata": {},
   "outputs": [
    {
     "name": "stdout",
     "output_type": "stream",
     "text": [
      "5\n",
      "John\n"
     ]
    }
   ],
   "source": [
    "x = 5\n",
    "y = \"John\"\n",
    "print(x)\n",
    "print(y)"
   ]
  },
  {
   "cell_type": "markdown",
   "id": "23e3d9d5-55ea-4bc7-a440-377bb596a9f8",
   "metadata": {},
   "source": [
    "Ex_13"
   ]
  },
  {
   "cell_type": "code",
   "execution_count": 50,
   "id": "cb2159a7-0e11-41d7-b7b6-928d536c8ce9",
   "metadata": {},
   "outputs": [
    {
     "name": "stdout",
     "output_type": "stream",
     "text": [
      "Sally\n"
     ]
    }
   ],
   "source": [
    "x = 4         # x is of type int\n",
    "x = \"Sally\"   # x is now of str\n",
    "print(x)"
   ]
  },
  {
   "cell_type": "markdown",
   "id": "72755685-398a-489a-b3d7-cfdce0d556ec",
   "metadata": {},
   "source": [
    "Ex_14"
   ]
  },
  {
   "cell_type": "code",
   "execution_count": 60,
   "id": "fa36dad4-4e2b-4066-9f33-281892b0d4d8",
   "metadata": {},
   "outputs": [],
   "source": [
    "x = str(3)    # x will be '3'\n",
    "y = int(3)    # y will be 3\n",
    "z = float(3)  # z will be 3.0"
   ]
  },
  {
   "cell_type": "markdown",
   "id": "a4a499fc-9c2c-49c9-aebe-a0b9edcb6f7b",
   "metadata": {},
   "source": [
    "Ex_15"
   ]
  },
  {
   "cell_type": "code",
   "execution_count": 63,
   "id": "66bca774-7ee1-4079-b57c-e36153b54db2",
   "metadata": {},
   "outputs": [
    {
     "name": "stdout",
     "output_type": "stream",
     "text": [
      "<class 'int'>\n",
      "<class 'str'>\n"
     ]
    }
   ],
   "source": [
    "x = 5\n",
    "y = \"John\"\n",
    "print(type(x))\n",
    "print(type(y))"
   ]
  },
  {
   "cell_type": "markdown",
   "id": "a2ebd899-7a55-43ff-9588-db652c12c5c5",
   "metadata": {},
   "source": [
    "Ex_16"
   ]
  },
  {
   "cell_type": "code",
   "execution_count": 66,
   "id": "35a292a5-020c-4342-9e81-013bd245f2de",
   "metadata": {},
   "outputs": [],
   "source": [
    "x = \"John\"\n",
    "# is the same as\n",
    "x = 'John'"
   ]
  },
  {
   "cell_type": "markdown",
   "id": "14a43262-1214-485b-a614-4bd4fe02f451",
   "metadata": {},
   "source": [
    "Ex_17"
   ]
  },
  {
   "cell_type": "code",
   "execution_count": 69,
   "id": "e883f7c4-9914-4fc6-a4c6-8f424b03fd4a",
   "metadata": {},
   "outputs": [],
   "source": [
    "a = 4\n",
    "A = \"Sally\"\n",
    "#A will not overwrite a"
   ]
  },
  {
   "cell_type": "markdown",
   "id": "704f74d1-b047-4ddc-af81-ceb8511ab59a",
   "metadata": {},
   "source": [
    "Ex_18"
   ]
  },
  {
   "cell_type": "code",
   "execution_count": 72,
   "id": "7f09c5df-b6cd-4a84-8b92-ac1c8a6b2a18",
   "metadata": {},
   "outputs": [],
   "source": [
    "myvar = \"John\"\n",
    "my_var = \"John\"\n",
    "_my_var = \"John\"\n",
    "myVar = \"John\"\n",
    "MYVAR = \"John\"\n",
    "myvar2 = \"John\""
   ]
  },
  {
   "cell_type": "markdown",
   "id": "e24f32a6-b00c-4f06-8a20-0aaefa840275",
   "metadata": {},
   "source": [
    "Ex_19"
   ]
  },
  {
   "cell_type": "code",
   "execution_count": 79,
   "id": "c046171c-7f66-4206-bfc5-20831621c57f",
   "metadata": {},
   "outputs": [],
   "source": [
    "#2myvar = \"John\" \n",
    "#my-var = \"John\"\n",
    "#my var = \"John\""
   ]
  },
  {
   "cell_type": "markdown",
   "id": "90888530-45c8-452a-967e-9c6b5ec9a63b",
   "metadata": {},
   "source": [
    "Ex_20"
   ]
  },
  {
   "cell_type": "code",
   "execution_count": 82,
   "id": "8a48e598-7824-4cbf-adae-8329de08e1d6",
   "metadata": {},
   "outputs": [
    {
     "name": "stdout",
     "output_type": "stream",
     "text": [
      "Orange\n",
      "Banana\n",
      "Cherry\n"
     ]
    }
   ],
   "source": [
    "x, y, z = \"Orange\", \"Banana\", \"Cherry\"\n",
    "print(x)\n",
    "print(y)\n",
    "print(z)"
   ]
  },
  {
   "cell_type": "markdown",
   "id": "a1e2db59-bb6d-4821-8768-5d613766c0f0",
   "metadata": {},
   "source": [
    "Ex_21"
   ]
  },
  {
   "cell_type": "code",
   "execution_count": 85,
   "id": "f5bfb25b-6035-4191-ae73-cd1fc3abd506",
   "metadata": {},
   "outputs": [
    {
     "name": "stdout",
     "output_type": "stream",
     "text": [
      "Orange\n",
      "Orange\n",
      "Orange\n"
     ]
    }
   ],
   "source": [
    "x = y = z = \"Orange\"\n",
    "print(x)\n",
    "print(y)\n",
    "print(z)"
   ]
  },
  {
   "cell_type": "markdown",
   "id": "e1ca9d18-f117-43c1-b4d9-4a6873c6f8a3",
   "metadata": {},
   "source": [
    "Ex_22"
   ]
  },
  {
   "cell_type": "code",
   "execution_count": 88,
   "id": "4da4edc5-0285-45d8-89f8-f53377f53e1c",
   "metadata": {},
   "outputs": [
    {
     "name": "stdout",
     "output_type": "stream",
     "text": [
      "apple\n",
      "banana\n",
      "cherry\n"
     ]
    }
   ],
   "source": [
    "fruits = [\"apple\", \"banana\", \"cherry\"]\n",
    "x, y, z = fruits\n",
    "print(x)\n",
    "print(y)\n",
    "print(z)"
   ]
  },
  {
   "cell_type": "markdown",
   "id": "a4d2f94d-d8f9-4961-8464-d6d3e9507a95",
   "metadata": {},
   "source": [
    "Ex_23"
   ]
  },
  {
   "cell_type": "code",
   "execution_count": 91,
   "id": "ad6cd2e4-43bb-4a78-99e2-a33444da33e6",
   "metadata": {},
   "outputs": [
    {
     "name": "stdout",
     "output_type": "stream",
     "text": [
      "Python is awesome\n"
     ]
    }
   ],
   "source": [
    "x = \"Python is awesome\"\n",
    "print(x)"
   ]
  },
  {
   "cell_type": "markdown",
   "id": "d2bf90a5-df50-41ef-a844-838c3e0b09b3",
   "metadata": {},
   "source": [
    "Ex_24"
   ]
  },
  {
   "cell_type": "code",
   "execution_count": 94,
   "id": "b7c96c45-930d-4fc2-8356-b09670ebf4e8",
   "metadata": {},
   "outputs": [
    {
     "name": "stdout",
     "output_type": "stream",
     "text": [
      "Python is awesome\n"
     ]
    }
   ],
   "source": [
    "x = \"Python\"\n",
    "y = \"is\"\n",
    "z = \"awesome\"\n",
    "print(x,y,z)"
   ]
  },
  {
   "cell_type": "markdown",
   "id": "054d0d1e-ee43-4dac-83fc-024dbb23efb2",
   "metadata": {},
   "source": [
    "Ex_25"
   ]
  },
  {
   "cell_type": "code",
   "execution_count": 101,
   "id": "4883668c-c417-4e4e-9cbb-b9c2d5e05ae1",
   "metadata": {},
   "outputs": [
    {
     "name": "stdout",
     "output_type": "stream",
     "text": [
      "Python is awesome \n"
     ]
    }
   ],
   "source": [
    "x = \"Python \"\n",
    "y = \"is \"\n",
    "z = \"awesome \"\n",
    "print(x + y + z)"
   ]
  },
  {
   "cell_type": "markdown",
   "id": "24a5067b-e9bf-44ec-bb53-329b8b22cef4",
   "metadata": {},
   "source": [
    "Ex_26"
   ]
  },
  {
   "cell_type": "code",
   "execution_count": 104,
   "id": "ea1fab13-6cd9-4806-9167-cf859f7e21c5",
   "metadata": {},
   "outputs": [
    {
     "name": "stdout",
     "output_type": "stream",
     "text": [
      "15\n"
     ]
    }
   ],
   "source": [
    "x = 5\n",
    "y = 10\n",
    "print(x+y)"
   ]
  },
  {
   "cell_type": "markdown",
   "id": "c3f8ff6f-d6ec-4f65-944b-582e77980176",
   "metadata": {},
   "source": [
    "Ex_27"
   ]
  },
  {
   "cell_type": "code",
   "execution_count": 107,
   "id": "37ef5f7d-1dba-476c-bd4c-4b69f67ece35",
   "metadata": {},
   "outputs": [],
   "source": [
    "# x = 5\n",
    "# y = \"John\"\n",
    "# print(x + y)"
   ]
  },
  {
   "cell_type": "markdown",
   "id": "b4c5af96-c02b-4cf4-bd22-c9837dea731d",
   "metadata": {},
   "source": [
    "Ex_28"
   ]
  },
  {
   "cell_type": "code",
   "execution_count": 110,
   "id": "d043bc77-7b6c-4b39-8992-6b3d7e6cc594",
   "metadata": {},
   "outputs": [
    {
     "name": "stdout",
     "output_type": "stream",
     "text": [
      "5 John\n"
     ]
    }
   ],
   "source": [
    "x = 5\n",
    "y = \"John\"\n",
    "print(x,y)"
   ]
  },
  {
   "cell_type": "markdown",
   "id": "4df04ce0-6c03-48d9-9b4d-7243b1045cf2",
   "metadata": {},
   "source": [
    "Ex_29"
   ]
  },
  {
   "cell_type": "code",
   "execution_count": 113,
   "id": "d28a19d5-5365-4132-9edc-5c00ab2526ad",
   "metadata": {},
   "outputs": [
    {
     "name": "stdout",
     "output_type": "stream",
     "text": [
      "Python is awesome\n"
     ]
    }
   ],
   "source": [
    "x = \"awesome\"\n",
    "\n",
    "def myfunc():\n",
    "    print(\"Python is \" + x)\n",
    "\n",
    "myfunc()"
   ]
  },
  {
   "cell_type": "markdown",
   "id": "edfd7538-f7cf-448b-8eaf-01756e02c411",
   "metadata": {},
   "source": [
    "Ex_30"
   ]
  },
  {
   "cell_type": "code",
   "execution_count": 120,
   "id": "bf4fc6e2-6199-4181-b3c6-7520abacb4dd",
   "metadata": {},
   "outputs": [
    {
     "name": "stdout",
     "output_type": "stream",
     "text": [
      "Python is fantastic\n",
      "Python is awesome\n"
     ]
    }
   ],
   "source": [
    "x = \"awesome\"\n",
    "\n",
    "def myfunc():\n",
    "    x = \"fantastic\"\n",
    "    print(\"Python is \" + x)\n",
    "\n",
    "myfunc()\n",
    "\n",
    "print(\"Python is \" + x)"
   ]
  },
  {
   "cell_type": "markdown",
   "id": "2c7b4b6b-fde0-422c-a338-69e9f27015ac",
   "metadata": {},
   "source": [
    "Ex_31"
   ]
  },
  {
   "cell_type": "code",
   "execution_count": 125,
   "id": "d16afc05-1f49-4bfe-a83a-cc5934e8fd41",
   "metadata": {},
   "outputs": [
    {
     "name": "stdout",
     "output_type": "stream",
     "text": [
      "Python is fantastic\n"
     ]
    }
   ],
   "source": [
    "def myfunc():\n",
    "    global x\n",
    "    x = \"fantastic\"\n",
    "\n",
    "myfunc()\n",
    "\n",
    "print(\"Python is \" + x)"
   ]
  },
  {
   "cell_type": "markdown",
   "id": "6cbee525-08cf-4872-b64f-ffaa4a85a2b9",
   "metadata": {},
   "source": [
    "Ex_32"
   ]
  },
  {
   "cell_type": "code",
   "execution_count": 128,
   "id": "13820dad-843d-406e-8ac8-131c3b73041a",
   "metadata": {},
   "outputs": [
    {
     "name": "stdout",
     "output_type": "stream",
     "text": [
      "Python is fantastic\n"
     ]
    }
   ],
   "source": [
    "x = \"awesome\"\n",
    "\n",
    "def myfunc():\n",
    "    global x\n",
    "    x = \"fantastic\"\n",
    "\n",
    "myfunc()\n",
    "\n",
    "print(\"Python is \" + x)"
   ]
  },
  {
   "cell_type": "markdown",
   "id": "3862df4b-f170-44f1-b5ae-9c662cb995b5",
   "metadata": {},
   "source": [
    "Ex_33"
   ]
  },
  {
   "cell_type": "code",
   "execution_count": 133,
   "id": "997a8ba1-835e-4caf-8c34-c778e8ed6e74",
   "metadata": {},
   "outputs": [
    {
     "name": "stdout",
     "output_type": "stream",
     "text": [
      "<class 'int'>\n"
     ]
    }
   ],
   "source": [
    "x = 5\n",
    "print(type(x))"
   ]
  },
  {
   "cell_type": "markdown",
   "id": "0fdc30a6-e3cc-40d3-8036-35e12f0ee6b5",
   "metadata": {},
   "source": [
    "Ex_34"
   ]
  },
  {
   "cell_type": "code",
   "execution_count": 138,
   "id": "65bf4b05-2450-45ce-b2af-74bc9a91cb9a",
   "metadata": {},
   "outputs": [],
   "source": [
    "x = 1   # int\n",
    "y = 2.8 # float\n",
    "z = 1j  # complex"
   ]
  },
  {
   "cell_type": "markdown",
   "id": "b1c32e9c-498d-45ce-b18f-68aad6b4a88d",
   "metadata": {},
   "source": [
    "Ex_35"
   ]
  },
  {
   "cell_type": "code",
   "execution_count": 141,
   "id": "c8b78d80-c4f0-4828-bf45-f917c0895f6e",
   "metadata": {},
   "outputs": [
    {
     "name": "stdout",
     "output_type": "stream",
     "text": [
      "<class 'int'>\n",
      "<class 'float'>\n",
      "<class 'complex'>\n"
     ]
    }
   ],
   "source": [
    "print(type(x))\n",
    "print(type(y))\n",
    "print(type(z))"
   ]
  },
  {
   "cell_type": "markdown",
   "id": "86a45dca-7f7d-4bde-819e-8812f8b88003",
   "metadata": {},
   "source": [
    "Ex_36"
   ]
  },
  {
   "cell_type": "code",
   "execution_count": 144,
   "id": "2decfaa0-f0da-4d18-bece-4a2c246f8f5b",
   "metadata": {},
   "outputs": [
    {
     "name": "stdout",
     "output_type": "stream",
     "text": [
      "<class 'int'>\n",
      "<class 'int'>\n",
      "<class 'int'>\n"
     ]
    }
   ],
   "source": [
    "x = 1\n",
    "y = 3456374353463574\n",
    "z = -447347384\n",
    "\n",
    "print(type(x))\n",
    "print(type(y))\n",
    "print(type(z))"
   ]
  },
  {
   "cell_type": "markdown",
   "id": "3ede3730-5bd3-4453-b900-11daee6c4059",
   "metadata": {},
   "source": [
    "Ex_37"
   ]
  },
  {
   "cell_type": "code",
   "execution_count": 147,
   "id": "bc733216-0f50-42f9-9581-5580075b2b7f",
   "metadata": {},
   "outputs": [
    {
     "name": "stdout",
     "output_type": "stream",
     "text": [
      "<class 'float'>\n",
      "<class 'float'>\n",
      "<class 'float'>\n"
     ]
    }
   ],
   "source": [
    "x = 1.10\n",
    "y = 1.0\n",
    "z = -35.59\n",
    "\n",
    "print(type(x))\n",
    "print(type(y))\n",
    "print(type(z))"
   ]
  },
  {
   "cell_type": "markdown",
   "id": "7cd9eea0-3456-4669-ada2-590af3719c9d",
   "metadata": {},
   "source": [
    "Ex_38"
   ]
  },
  {
   "cell_type": "code",
   "execution_count": 150,
   "id": "bd2fec52-5082-4ed9-9097-38dcfa7807da",
   "metadata": {},
   "outputs": [
    {
     "name": "stdout",
     "output_type": "stream",
     "text": [
      "<class 'float'>\n",
      "<class 'float'>\n",
      "<class 'float'>\n"
     ]
    }
   ],
   "source": [
    "x = 35e3\n",
    "y = 12E4\n",
    "z = -87.7e100\n",
    "\n",
    "print(type(x))\n",
    "print(type(y))\n",
    "print(type(z))"
   ]
  },
  {
   "cell_type": "markdown",
   "id": "6e2921f1-19f1-4172-95aa-2d166def33ae",
   "metadata": {},
   "source": [
    "Ex_39"
   ]
  },
  {
   "cell_type": "code",
   "execution_count": 153,
   "id": "b0644267-5079-4097-9357-9219a9ad259a",
   "metadata": {},
   "outputs": [
    {
     "name": "stdout",
     "output_type": "stream",
     "text": [
      "<class 'complex'>\n",
      "<class 'complex'>\n",
      "<class 'complex'>\n"
     ]
    }
   ],
   "source": [
    "x = 3+5j\n",
    "y = 5j\n",
    "z = -5j\n",
    "\n",
    "print(type(x))\n",
    "print(type(y))\n",
    "print(type(z))"
   ]
  },
  {
   "cell_type": "markdown",
   "id": "cb2c14c8-7a4c-4d95-8533-87eb5180a064",
   "metadata": {},
   "source": [
    "Ex_40"
   ]
  },
  {
   "cell_type": "code",
   "execution_count": 156,
   "id": "fd272b34-11a4-4ab3-9562-e5720b12f3f2",
   "metadata": {},
   "outputs": [
    {
     "name": "stdout",
     "output_type": "stream",
     "text": [
      "1.0\n",
      "2\n",
      "(1+0j)\n",
      "<class 'float'>\n",
      "<class 'int'>\n",
      "<class 'complex'>\n"
     ]
    }
   ],
   "source": [
    "x = 1    # int\n",
    "y = 2.8  # float\n",
    "z = 1j   # complex\n",
    "\n",
    "#convert from int to float:\n",
    "a = float(x)\n",
    "\n",
    "#convert from float to int:\n",
    "b = int(y)\n",
    "\n",
    "#convert from int to complex:\n",
    "c = complex(x)\n",
    "\n",
    "print(a)\n",
    "print(b)\n",
    "print(c)\n",
    "\n",
    "print(type(a))\n",
    "print(type(b))\n",
    "print(type(c))"
   ]
  },
  {
   "cell_type": "markdown",
   "id": "f1ac2854-7a50-4951-96a9-128ae7d33bf1",
   "metadata": {},
   "source": [
    "Ex_41"
   ]
  },
  {
   "cell_type": "code",
   "execution_count": 161,
   "id": "5d5af2d0-c939-40c6-b257-810590fbea7b",
   "metadata": {},
   "outputs": [
    {
     "name": "stdout",
     "output_type": "stream",
     "text": [
      "6\n"
     ]
    }
   ],
   "source": [
    "import random\n",
    "\n",
    "print(random.randrange(1,10))"
   ]
  },
  {
   "cell_type": "markdown",
   "id": "b0993367-1600-4fc2-b73e-c71df91e22fd",
   "metadata": {},
   "source": [
    "Ex_42"
   ]
  },
  {
   "cell_type": "code",
   "execution_count": 166,
   "id": "ac5780b9-d569-47e3-a55b-2a64efc342a0",
   "metadata": {},
   "outputs": [],
   "source": [
    "x = int(1)    # x will be 1\n",
    "y = int(2.8)  # y will be 2\n",
    "z = int(\"3\")  # z will be 3"
   ]
  },
  {
   "cell_type": "markdown",
   "id": "2664a611-5191-4565-aa42-6bbe780b907e",
   "metadata": {},
   "source": [
    "Ex_43"
   ]
  },
  {
   "cell_type": "code",
   "execution_count": 171,
   "id": "17c8feda-e802-4b20-b5cc-704de8721b7b",
   "metadata": {},
   "outputs": [],
   "source": [
    "x = float(1)       # x will be 1.0\n",
    "y = float(2.8)     # y will be 2.0\n",
    "z = float(\"3\")     # z will be 3.0\n",
    "w = float(\"4.2\")   # w will be 4.0"
   ]
  },
  {
   "cell_type": "markdown",
   "id": "c0cb3e27-7665-48a0-b9ec-fbed704374c3",
   "metadata": {},
   "source": [
    "Ex_44"
   ]
  },
  {
   "cell_type": "code",
   "execution_count": 174,
   "id": "a5404e78-bbfb-426a-b41f-e1132e593bec",
   "metadata": {},
   "outputs": [],
   "source": [
    "x = str(\"s1\") # x will be 's1'\n",
    "y = str(2)    # y will be '2'\n",
    "z = str(3.0)  # z will be '3.0'"
   ]
  },
  {
   "cell_type": "markdown",
   "id": "8a3f4de7-c034-4f30-aaf4-3918bab07d24",
   "metadata": {},
   "source": [
    "Ex_45"
   ]
  },
  {
   "cell_type": "code",
   "execution_count": 177,
   "id": "5cf1d377-b6e1-459e-b8cd-1551a7e17caf",
   "metadata": {},
   "outputs": [
    {
     "name": "stdout",
     "output_type": "stream",
     "text": [
      "Hello\n",
      "Hello\n"
     ]
    }
   ],
   "source": [
    "print(\"Hello\")\n",
    "print('Hello')"
   ]
  },
  {
   "cell_type": "markdown",
   "id": "4c6c1fb1-b1af-436a-9d11-804d595cb3bc",
   "metadata": {},
   "source": [
    "Ex_46"
   ]
  },
  {
   "cell_type": "code",
   "execution_count": 180,
   "id": "0246b9ff-fcf5-4259-870a-8ad905f5393c",
   "metadata": {},
   "outputs": [
    {
     "name": "stdout",
     "output_type": "stream",
     "text": [
      "It's alright\n",
      "He is called 'Johnny'\n",
      "He is called \"Johnny\"\n"
     ]
    }
   ],
   "source": [
    "print(\"It's alright\")\n",
    "print(\"He is called 'Johnny'\")\n",
    "print('He is called \"Johnny\"')"
   ]
  },
  {
   "cell_type": "markdown",
   "id": "2414af06-bd69-4c00-83f1-590d7b4f9d67",
   "metadata": {},
   "source": [
    "Ex_47"
   ]
  },
  {
   "cell_type": "code",
   "execution_count": 185,
   "id": "9ef22c1d-0e8b-4e8e-b839-a1e820663353",
   "metadata": {},
   "outputs": [
    {
     "name": "stdout",
     "output_type": "stream",
     "text": [
      "Hello\n"
     ]
    }
   ],
   "source": [
    "a = \"Hello\"\n",
    "print(a)"
   ]
  },
  {
   "cell_type": "markdown",
   "id": "9fc02c7d-374d-417e-91be-26b772318cdb",
   "metadata": {},
   "source": [
    "Ex_48"
   ]
  },
  {
   "cell_type": "code",
   "execution_count": 188,
   "id": "82a73a17-0b5d-41fd-9516-26cb5206c86b",
   "metadata": {},
   "outputs": [
    {
     "name": "stdout",
     "output_type": "stream",
     "text": [
      "Lorem ipsum dolor sit amet,\n",
      "consectetur adipiscing elit,\n",
      "sed do eiusmod tempor incididunt\n",
      "ut labore et dolore magna aliqua.\n"
     ]
    }
   ],
   "source": [
    "a = \"\"\"Lorem ipsum dolor sit amet,\n",
    "consectetur adipiscing elit,\n",
    "sed do eiusmod tempor incididunt\n",
    "ut labore et dolore magna aliqua.\"\"\"\n",
    "print(a)"
   ]
  },
  {
   "cell_type": "markdown",
   "id": "e5fddaf2-8756-400a-a1fd-018ea8237269",
   "metadata": {},
   "source": [
    "Ex_49"
   ]
  },
  {
   "cell_type": "code",
   "execution_count": 191,
   "id": "eb0fc7d1-2e41-4c9d-af7a-3366dba151a3",
   "metadata": {},
   "outputs": [
    {
     "name": "stdout",
     "output_type": "stream",
     "text": [
      "Lorem ipsum dolor sit amet,\n",
      "consectetur adipiscing elit,\n",
      "sed do eiusmod tempor incididunt\n",
      "ut labore et dolore magna aliqua.\n"
     ]
    }
   ],
   "source": [
    "a = '''Lorem ipsum dolor sit amet,\n",
    "consectetur adipiscing elit,\n",
    "sed do eiusmod tempor incididunt\n",
    "ut labore et dolore magna aliqua.'''\n",
    "print(a)"
   ]
  },
  {
   "cell_type": "markdown",
   "id": "4fa655ac-336a-46b0-9d56-2aa2c09a3946",
   "metadata": {},
   "source": [
    "Ex_50"
   ]
  },
  {
   "cell_type": "code",
   "execution_count": 194,
   "id": "9a7c75dc-24fb-4c46-9cff-53c0856fdc76",
   "metadata": {},
   "outputs": [
    {
     "name": "stdout",
     "output_type": "stream",
     "text": [
      "e\n"
     ]
    }
   ],
   "source": [
    "a = \"Hello, World!\"\n",
    "print(a[1])"
   ]
  },
  {
   "cell_type": "markdown",
   "id": "271482a5-bb6e-442f-8972-7e8637708520",
   "metadata": {},
   "source": [
    "Ex_51"
   ]
  },
  {
   "cell_type": "code",
   "execution_count": 197,
   "id": "c2132a89-beaa-46d9-83e3-d4f5705e94ea",
   "metadata": {},
   "outputs": [
    {
     "name": "stdout",
     "output_type": "stream",
     "text": [
      "b\n",
      "a\n",
      "n\n",
      "a\n",
      "n\n",
      "a\n"
     ]
    }
   ],
   "source": [
    "for x in \"banana\":\n",
    "  print(x)"
   ]
  },
  {
   "cell_type": "markdown",
   "id": "a3d8e1f2-27ac-4f8c-b9ea-a772a5c490a3",
   "metadata": {},
   "source": [
    "Ex_52"
   ]
  },
  {
   "cell_type": "code",
   "execution_count": 200,
   "id": "cc10866e-6120-480f-b48b-e4e164fbc93b",
   "metadata": {},
   "outputs": [
    {
     "name": "stdout",
     "output_type": "stream",
     "text": [
      "13\n"
     ]
    }
   ],
   "source": [
    "a = \"Hello, World!\"\n",
    "print(len(a))"
   ]
  },
  {
   "cell_type": "markdown",
   "id": "dac08bb7-c6ea-41da-b7a5-f73710b813aa",
   "metadata": {},
   "source": [
    "Ex_53"
   ]
  },
  {
   "cell_type": "code",
   "execution_count": 205,
   "id": "55a942b1-1d63-465f-8659-5c5e78b5037f",
   "metadata": {},
   "outputs": [
    {
     "name": "stdout",
     "output_type": "stream",
     "text": [
      "True\n"
     ]
    }
   ],
   "source": [
    "txt = \"The best things in life are free!\"\n",
    "print(\"free\" in txt)"
   ]
  },
  {
   "cell_type": "markdown",
   "id": "247fdf6d-56f2-4f0d-a831-656b06dc870d",
   "metadata": {},
   "source": [
    "Ex_54"
   ]
  },
  {
   "cell_type": "code",
   "execution_count": 208,
   "id": "578e015e-cf64-4243-a3fd-37fb5ece6fa5",
   "metadata": {},
   "outputs": [
    {
     "name": "stdout",
     "output_type": "stream",
     "text": [
      "Yes, 'free' is present.\n"
     ]
    }
   ],
   "source": [
    "txt = \"The best things in life are free!\"\n",
    "if \"free\" in txt:\n",
    "  print(\"Yes, 'free' is present.\")"
   ]
  },
  {
   "cell_type": "markdown",
   "id": "aa34d082-abdb-4a14-89c6-84f08c385a6a",
   "metadata": {},
   "source": [
    "Ex_55"
   ]
  },
  {
   "cell_type": "code",
   "execution_count": 211,
   "id": "db951b37-70ea-4e41-8315-ae540d95318b",
   "metadata": {},
   "outputs": [
    {
     "name": "stdout",
     "output_type": "stream",
     "text": [
      "True\n"
     ]
    }
   ],
   "source": [
    "txt = \"The best things in life are free!\"\n",
    "print(\"expensive\" not in txt)"
   ]
  },
  {
   "cell_type": "markdown",
   "id": "bab125c9-6aa8-4d97-804d-f2a4eff1bc69",
   "metadata": {},
   "source": [
    "Ex_56"
   ]
  },
  {
   "cell_type": "code",
   "execution_count": 214,
   "id": "1d379f59-b027-4ceb-8b6e-694ebbe66566",
   "metadata": {},
   "outputs": [
    {
     "name": "stdout",
     "output_type": "stream",
     "text": [
      "No, 'expensive' is NOT present.\n"
     ]
    }
   ],
   "source": [
    "txt = \"The best things in life are free!\"\n",
    "if \"expensive\" not in txt:\n",
    "  print(\"No, 'expensive' is NOT present.\")"
   ]
  },
  {
   "cell_type": "markdown",
   "id": "669450ec-1f5a-4207-a399-9118cda46cb4",
   "metadata": {},
   "source": [
    "Ex_57"
   ]
  },
  {
   "cell_type": "code",
   "execution_count": 217,
   "id": "8d6adcb9-b775-439f-84c4-321facb21882",
   "metadata": {},
   "outputs": [
    {
     "name": "stdout",
     "output_type": "stream",
     "text": [
      "llo\n"
     ]
    }
   ],
   "source": [
    "b = \"Hello, World!\"\n",
    "print(b[2:5])"
   ]
  },
  {
   "cell_type": "markdown",
   "id": "7c49b5ca-aa99-4777-84e6-59fc1a10a42a",
   "metadata": {},
   "source": [
    "Ex_58"
   ]
  },
  {
   "cell_type": "code",
   "execution_count": 220,
   "id": "80ad9f62-dee5-458e-9557-7e2ed0623e72",
   "metadata": {},
   "outputs": [
    {
     "name": "stdout",
     "output_type": "stream",
     "text": [
      "Hello\n"
     ]
    }
   ],
   "source": [
    "b = \"Hello, World!\"\n",
    "print(b[:5])"
   ]
  },
  {
   "cell_type": "markdown",
   "id": "7aa4663b-e2e3-4522-82bf-e29a089cf953",
   "metadata": {},
   "source": [
    "Ex_59"
   ]
  },
  {
   "cell_type": "code",
   "execution_count": 225,
   "id": "2d790a5c-b084-4fa6-9fc1-e0c295e13242",
   "metadata": {},
   "outputs": [
    {
     "name": "stdout",
     "output_type": "stream",
     "text": [
      "llo, World!\n"
     ]
    }
   ],
   "source": [
    "b = \"Hello, World!\"\n",
    "print(b[2:])"
   ]
  },
  {
   "cell_type": "markdown",
   "id": "bd7d5e0f-6de9-4785-81a5-61f7ca10ef4e",
   "metadata": {},
   "source": [
    "Ex_60"
   ]
  },
  {
   "cell_type": "code",
   "execution_count": 228,
   "id": "d200cf6f-3988-48b1-bf54-1b0faf75623b",
   "metadata": {},
   "outputs": [
    {
     "name": "stdout",
     "output_type": "stream",
     "text": [
      "orl\n"
     ]
    }
   ],
   "source": [
    "b = \"Hello, World!\"\n",
    "print(b[-5:-2])"
   ]
  },
  {
   "cell_type": "markdown",
   "id": "deb74b82-c334-45aa-a2dc-c5ac23b1f99d",
   "metadata": {},
   "source": [
    "Ex_61"
   ]
  },
  {
   "cell_type": "code",
   "execution_count": 231,
   "id": "67dec27b-7779-4541-ab37-0a5bdabd68f5",
   "metadata": {},
   "outputs": [
    {
     "name": "stdout",
     "output_type": "stream",
     "text": [
      "HELLO, WORLD!\n"
     ]
    }
   ],
   "source": [
    "a = \"Hello, World!\"\n",
    "print(a.upper())"
   ]
  },
  {
   "cell_type": "markdown",
   "id": "46202804-7ed3-4d1b-9b34-c5d2765be5da",
   "metadata": {},
   "source": [
    "Ex_62"
   ]
  },
  {
   "cell_type": "code",
   "execution_count": 234,
   "id": "2fede45e-7a0b-499d-b8ce-91465b6307a6",
   "metadata": {},
   "outputs": [
    {
     "name": "stdout",
     "output_type": "stream",
     "text": [
      "hello, world!\n"
     ]
    }
   ],
   "source": [
    "a = \"Hello, World!\"\n",
    "print(a.lower())"
   ]
  },
  {
   "cell_type": "markdown",
   "id": "c3946b72-da8b-462d-91f4-1ae8a5b89f7b",
   "metadata": {},
   "source": [
    "Ex_63"
   ]
  },
  {
   "cell_type": "code",
   "execution_count": 237,
   "id": "7783a0a9-8356-4b6d-a34c-0f373c5997d0",
   "metadata": {},
   "outputs": [
    {
     "name": "stdout",
     "output_type": "stream",
     "text": [
      "Hello, World!\n"
     ]
    }
   ],
   "source": [
    "a = \" Hello, World! \"\n",
    "print(a.strip()) # returns \"Hello, World!\""
   ]
  },
  {
   "cell_type": "markdown",
   "id": "221de350-a766-42f5-a2b9-0b8d8fdbe224",
   "metadata": {},
   "source": [
    "Ex_64"
   ]
  },
  {
   "cell_type": "code",
   "execution_count": 240,
   "id": "ad107852-b8c1-4248-8dab-61a8e77b5087",
   "metadata": {},
   "outputs": [
    {
     "name": "stdout",
     "output_type": "stream",
     "text": [
      "Jello, World!\n"
     ]
    }
   ],
   "source": [
    "a = \"Hello, World!\"\n",
    "print(a.replace(\"H\", \"J\"))"
   ]
  },
  {
   "cell_type": "markdown",
   "id": "0baa9f56-3220-4a7e-a4ec-e8bed62d5fd4",
   "metadata": {},
   "source": [
    "Ex_65"
   ]
  },
  {
   "cell_type": "code",
   "execution_count": 243,
   "id": "906273c4-6a4f-47aa-8a6e-fbf05b5c2054",
   "metadata": {},
   "outputs": [
    {
     "name": "stdout",
     "output_type": "stream",
     "text": [
      "['Hello', ' World!']\n"
     ]
    }
   ],
   "source": [
    "a = \"Hello, World!\"\n",
    "print(a.split(\",\")) # returns ['Hello', ' World!']"
   ]
  },
  {
   "cell_type": "markdown",
   "id": "aad5f4ef-03be-4286-bc7d-b591652725ce",
   "metadata": {},
   "source": [
    "Ex_66"
   ]
  },
  {
   "cell_type": "code",
   "execution_count": 246,
   "id": "b4f8bf83-2d1f-4ee6-ab61-887823a84ca5",
   "metadata": {},
   "outputs": [
    {
     "name": "stdout",
     "output_type": "stream",
     "text": [
      "HelloWorld\n"
     ]
    }
   ],
   "source": [
    "a = \"Hello\"\n",
    "b = \"World\"\n",
    "c = a + b\n",
    "print(c)"
   ]
  },
  {
   "cell_type": "markdown",
   "id": "b2cdbf45-d2b9-461f-a64e-5df61cbd0b8c",
   "metadata": {},
   "source": [
    "Ex_67"
   ]
  },
  {
   "cell_type": "code",
   "execution_count": 251,
   "id": "13bcdecf-c018-46dc-aa1c-b208f8c4784a",
   "metadata": {},
   "outputs": [
    {
     "name": "stdout",
     "output_type": "stream",
     "text": [
      "Hello World\n"
     ]
    }
   ],
   "source": [
    "a = \"Hello\"\n",
    "b = \"World\"\n",
    "c = a + \" \" + b\n",
    "print(c)"
   ]
  },
  {
   "cell_type": "markdown",
   "id": "5e10f587-f6da-468b-9adf-ac8d8bbace4d",
   "metadata": {},
   "source": [
    "Ex_68"
   ]
  },
  {
   "cell_type": "code",
   "execution_count": 254,
   "id": "ec4a284e-bb3a-4abc-b2b6-e457edfc3cdc",
   "metadata": {},
   "outputs": [],
   "source": [
    "# age = 36\n",
    "# txt = \"My name is John, I am \" + age\n",
    "# print(txt)"
   ]
  },
  {
   "cell_type": "markdown",
   "id": "df59e2eb-72ab-4a6e-92d7-ca16ad12542d",
   "metadata": {},
   "source": [
    "Ex_69"
   ]
  },
  {
   "cell_type": "code",
   "execution_count": 257,
   "id": "c7859448-e247-4822-8b96-84191e9193c9",
   "metadata": {},
   "outputs": [
    {
     "name": "stdout",
     "output_type": "stream",
     "text": [
      "My name is John, I am 36\n"
     ]
    }
   ],
   "source": [
    "age = 36\n",
    "txt = f\"My name is John, I am {age}\"\n",
    "print(txt)"
   ]
  },
  {
   "cell_type": "markdown",
   "id": "f0dabb9d-6012-44eb-8ed2-5423a1ed4a4a",
   "metadata": {},
   "source": [
    "Ex_70"
   ]
  },
  {
   "cell_type": "code",
   "execution_count": 260,
   "id": "fb43e4fa-01ab-40d6-952f-7e5142ad82d9",
   "metadata": {},
   "outputs": [
    {
     "name": "stdout",
     "output_type": "stream",
     "text": [
      "The price is 59 dollars\n"
     ]
    }
   ],
   "source": [
    "price = 59\n",
    "txt = f\"The price is {price} dollars\"\n",
    "print(txt)"
   ]
  },
  {
   "cell_type": "markdown",
   "id": "ef5bd573-b77a-4d00-aca4-50e067b676f2",
   "metadata": {},
   "source": [
    "Ex_71"
   ]
  },
  {
   "cell_type": "code",
   "execution_count": 263,
   "id": "587aa096-1d9c-41be-8311-62bd0ae0a3cb",
   "metadata": {},
   "outputs": [
    {
     "name": "stdout",
     "output_type": "stream",
     "text": [
      "The price is 59.00 dollars\n"
     ]
    }
   ],
   "source": [
    "price = 59\n",
    "txt = f\"The price is {price:.2f} dollars\"\n",
    "print(txt)"
   ]
  },
  {
   "cell_type": "markdown",
   "id": "f3244d6d-f060-4417-956e-43e32b3ad156",
   "metadata": {},
   "source": [
    "Ex_72"
   ]
  },
  {
   "cell_type": "code",
   "execution_count": 266,
   "id": "3d4f1741-d057-413c-924a-5236e015258f",
   "metadata": {},
   "outputs": [
    {
     "name": "stdout",
     "output_type": "stream",
     "text": [
      "The price is 1180 dollars\n"
     ]
    }
   ],
   "source": [
    "txt = f\"The price is {20 * 59} dollars\"\n",
    "print(txt)"
   ]
  },
  {
   "cell_type": "markdown",
   "id": "2552417b-7b9b-454d-b548-fb1adbfb4dc5",
   "metadata": {},
   "source": [
    "Ex_73"
   ]
  },
  {
   "cell_type": "code",
   "execution_count": 269,
   "id": "49d9da6a-e344-4a54-aa24-5bc165a37fcc",
   "metadata": {},
   "outputs": [],
   "source": [
    "# txt = \"We are the so-called \"Vikings\" from the north.\""
   ]
  },
  {
   "cell_type": "markdown",
   "id": "e98f11ab-5712-4322-bf79-6fb2dccf6f8f",
   "metadata": {},
   "source": [
    "Ex_74"
   ]
  },
  {
   "cell_type": "code",
   "execution_count": 272,
   "id": "0753ebea-a800-4227-b4b9-e892d38f0429",
   "metadata": {},
   "outputs": [],
   "source": [
    "txt = \"We are the so-called \\\"Vikings\\\" from the north.\""
   ]
  }
 ],
 "metadata": {
  "kernelspec": {
   "display_name": "Python [conda env:base] *",
   "language": "python",
   "name": "conda-base-py"
  },
  "language_info": {
   "codemirror_mode": {
    "name": "ipython",
    "version": 3
   },
   "file_extension": ".py",
   "mimetype": "text/x-python",
   "name": "python",
   "nbconvert_exporter": "python",
   "pygments_lexer": "ipython3",
   "version": "3.12.7"
  }
 },
 "nbformat": 4,
 "nbformat_minor": 5
}
