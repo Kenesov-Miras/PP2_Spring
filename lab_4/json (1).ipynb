{
 "cells": [
  {
   "cell_type": "code",
   "execution_count": 1,
   "id": "2f8171ce-ab5b-42dc-a0ec-74545e611088",
   "metadata": {},
   "outputs": [
    {
     "name": "stdout",
     "output_type": "stream",
     "text": [
      "Interface Status\n",
      "========================================================================\n",
      "DN                                Description                    Speed    MTU\n",
      "------------------------------------------------------------------------\n",
      "topology/pod-1/node-201/sys/phys-[eth1/33]                                inherit   9150\n",
      "topology/pod-1/node-201/sys/phys-[eth1/34]                                inherit   9150\n",
      "topology/pod-1/node-201/sys/phys-[eth1/35]                                inherit   9150\n"
     ]
    }
   ],
   "source": [
    "import json\n",
    "\n",
    "\n",
    "data = '''{\n",
    "    \"totalCount\": \"400\",\n",
    "    \"imdata\": [\n",
    "        {\n",
    "            \"l1PhysIf\": {\n",
    "                \"attributes\": {\n",
    "                    \"dn\": \"topology/pod-1/node-201/sys/phys-[eth1/33]\",\n",
    "                    \"descr\": \"\",\n",
    "                    \"speed\": \"inherit\",\n",
    "                    \"mtu\": \"9150\"\n",
    "                }\n",
    "            }\n",
    "        },\n",
    "        {\n",
    "            \"l1PhysIf\": {\n",
    "                \"attributes\": {\n",
    "                    \"dn\": \"topology/pod-1/node-201/sys/phys-[eth1/34]\",\n",
    "                    \"descr\": \"\",\n",
    "                    \"speed\": \"inherit\",\n",
    "                    \"mtu\": \"9150\"\n",
    "                }\n",
    "            }\n",
    "        },\n",
    "        {\n",
    "            \"l1PhysIf\": {\n",
    "                \"attributes\": {\n",
    "                    \"dn\": \"topology/pod-1/node-201/sys/phys-[eth1/35]\",\n",
    "                    \"descr\": \"\",\n",
    "                    \"speed\": \"inherit\",\n",
    "                    \"mtu\": \"9150\"\n",
    "                }\n",
    "            }\n",
    "        }\n",
    "    ]\n",
    "}'''\n",
    "\n",
    "\n",
    "parsed_data = json.loads(data) \n",
    "\n",
    "\n",
    "print(\"Interface Status\")\n",
    "print(\"=\"*72)\n",
    "print(\"DN                                Description                    Speed    MTU\")\n",
    "print(\"-\"*72)\n",
    "\n",
    "\n",
    "for item in parsed_data[\"imdata\"]: \n",
    "    attributes = item[\"l1PhysIf\"][\"attributes\"] \n",
    "    print(f\"{attributes['dn']:<35} {attributes['descr']:<30} {attributes['speed']:<9} {attributes['mtu']}\")\n"
   ]
  }
 ],
 "metadata": {
  "kernelspec": {
   "display_name": "anaconda-2024.02-py310",
   "language": "python",
   "name": "conda-env-anaconda-2024.02-py310-py"
  },
  "language_info": {
   "codemirror_mode": {
    "name": "ipython",
    "version": 3
   },
   "file_extension": ".py",
   "mimetype": "text/x-python",
   "name": "python",
   "nbconvert_exporter": "python",
   "pygments_lexer": "ipython3",
   "version": "3.10.14"
  }
 },
 "nbformat": 4,
 "nbformat_minor": 5
}
