{
 "cells": [
  {
   "cell_type": "markdown",
   "id": "96cc2309-f17c-48db-bcae-7456adf45493",
   "metadata": {},
   "source": [
    "ex_1"
   ]
  },
  {
   "cell_type": "code",
   "execution_count": 2,
   "id": "60159584-1dd6-48af-8b17-45c6d5dd98cb",
   "metadata": {},
   "outputs": [
    {
     "name": "stdout",
     "output_type": "stream",
     "text": [
      "1\n",
      "4\n",
      "9\n",
      "16\n",
      "25\n",
      "36\n",
      "49\n",
      "64\n",
      "81\n",
      "100\n",
      "121\n",
      "144\n",
      "169\n"
     ]
    }
   ],
   "source": [
    "def generator(n):\n",
    "    for i in range(1, n+1):\n",
    "        yield i**2  \n",
    "\n",
    "n =  13\n",
    "gen = generator(n)\n",
    "\n",
    "for square in gen:\n",
    "    print(square)\n"
   ]
  },
  {
   "cell_type": "markdown",
   "id": "2614c51a-7b8b-4232-bfb2-84d4e8bcad4f",
   "metadata": {},
   "source": [
    "ex_2"
   ]
  },
  {
   "cell_type": "code",
   "execution_count": 7,
   "id": "3aa8df12-ebf7-4806-937f-c029ca331017",
   "metadata": {},
   "outputs": [
    {
     "name": "stdout",
     "output_type": "stream",
     "text": [
      "0,2,4,6,8,10\n"
     ]
    }
   ],
   "source": [
    "def generator(n):\n",
    "    for i in range(0, n+1 , 2):\n",
    "        yield i  \n",
    "\n",
    "n =  10\n",
    "gen = generator(n)\n",
    "print(*gen,sep=\",\")"
   ]
  },
  {
   "cell_type": "markdown",
   "id": "68500e8b-63e6-4711-9ca6-16052ae12824",
   "metadata": {},
   "source": [
    "ex_3"
   ]
  },
  {
   "cell_type": "code",
   "execution_count": 10,
   "id": "f9e96686-8bfa-4189-b26d-280c2433b9ea",
   "metadata": {},
   "outputs": [
    {
     "name": "stdout",
     "output_type": "stream",
     "text": [
      "0 12\n"
     ]
    }
   ],
   "source": [
    "def generator(n):\n",
    "    for i in range(0,n):\n",
    "        if i % 3 == 0 and i % 4 == 0:\n",
    "            yield i\n",
    "\n",
    "n = 24\n",
    "gen = generator(n)\n",
    "\n",
    "print(*gen)"
   ]
  },
  {
   "cell_type": "markdown",
   "id": "8bffd172-c7e5-4084-96f4-87ad98abaa25",
   "metadata": {},
   "source": [
    "ex_4"
   ]
  },
  {
   "cell_type": "code",
   "execution_count": 13,
   "id": "8685d135-92f4-48f7-b59f-fd12bc8d6730",
   "metadata": {},
   "outputs": [
    {
     "name": "stdout",
     "output_type": "stream",
     "text": [
      "25 36 49 64 81 100 121 144\n"
     ]
    }
   ],
   "source": [
    "def generator(a,b):\n",
    "    for i in range(a,b):\n",
    "        yield i**2\n",
    "\n",
    "a = 5\n",
    "b = 13\n",
    "gen = generator(a,b)\n",
    "\n",
    "print(*gen)"
   ]
  },
  {
   "cell_type": "markdown",
   "id": "96f97a3a-de15-4195-8a5e-ac6ac1d3215d",
   "metadata": {},
   "source": [
    "ex_5"
   ]
  },
  {
   "cell_type": "code",
   "execution_count": 16,
   "id": "eff54d84-890c-40d6-9703-869e19e72c45",
   "metadata": {},
   "outputs": [
    {
     "name": "stdout",
     "output_type": "stream",
     "text": [
      "5 4 3 2 1 0\n"
     ]
    }
   ],
   "source": [
    "def generator(n):\n",
    "    for i in range(n,-1,-1):\n",
    "        yield i\n",
    "\n",
    "n = 5\n",
    "gen = generator(n)\n",
    "\n",
    "print(*gen)"
   ]
  },
  {
   "cell_type": "code",
   "execution_count": null,
   "id": "cb403851-b3f7-4904-9b18-e8c2303b8dc4",
   "metadata": {},
   "outputs": [],
   "source": []
  }
 ],
 "metadata": {
  "kernelspec": {
   "display_name": "anaconda-2024.02-py310",
   "language": "python",
   "name": "conda-env-anaconda-2024.02-py310-py"
  },
  "language_info": {
   "codemirror_mode": {
    "name": "ipython",
    "version": 3
   },
   "file_extension": ".py",
   "mimetype": "text/x-python",
   "name": "python",
   "nbconvert_exporter": "python",
   "pygments_lexer": "ipython3",
   "version": "3.10.14"
  }
 },
 "nbformat": 4,
 "nbformat_minor": 5
}
