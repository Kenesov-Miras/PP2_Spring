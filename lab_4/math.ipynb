{
 "cells": [
  {
   "cell_type": "markdown",
   "id": "7f3eb86a-9910-47ea-a7cd-a1572bcaa65e",
   "metadata": {},
   "source": [
    "ex_1"
   ]
  },
  {
   "cell_type": "code",
   "execution_count": 7,
   "id": "9bb497af-410a-4031-8ca4-9bcfc302d268",
   "metadata": {},
   "outputs": [
    {
     "name": "stdout",
     "output_type": "stream",
     "text": [
      "0.2617993877991494\n"
     ]
    }
   ],
   "source": [
    "import math\n",
    "\n",
    "degree = 15\n",
    "\n",
    "radian = degree * (math.pi / 180)\n",
    "\n",
    "print(radian)"
   ]
  },
  {
   "cell_type": "markdown",
   "id": "9a348ba0-e4df-4dbd-9cd0-8fa66bd39600",
   "metadata": {},
   "source": [
    "ex_2"
   ]
  },
  {
   "cell_type": "code",
   "execution_count": 10,
   "id": "416642b8-9f9f-4241-a206-53f4843daaed",
   "metadata": {},
   "outputs": [
    {
     "name": "stdout",
     "output_type": "stream",
     "text": [
      "27.5\n"
     ]
    }
   ],
   "source": [
    "import math\n",
    "\n",
    "h = 5\n",
    "first_base = 5\n",
    "second_base = 6\n",
    "\n",
    "area = (h * (first_base + second_base)) / 2\n",
    "\n",
    "print(area)"
   ]
  },
  {
   "cell_type": "markdown",
   "id": "2c50a8d1-c312-422f-8a25-578248b452e2",
   "metadata": {},
   "source": [
    "ex_3"
   ]
  },
  {
   "cell_type": "code",
   "execution_count": 23,
   "id": "fa466169-87f8-4f8b-a9de-7671c73194ce",
   "metadata": {},
   "outputs": [
    {
     "name": "stdout",
     "output_type": "stream",
     "text": [
      "625.0000000000001\n"
     ]
    }
   ],
   "source": [
    "import math\n",
    "\n",
    "n = 4\n",
    "a = 25\n",
    "\n",
    "area = (n * a**2) / (4 * math.tan(math.pi / n))\n",
    "\n",
    "print(area)"
   ]
  },
  {
   "cell_type": "markdown",
   "id": "8270ed32-2880-4460-8d87-180548985f10",
   "metadata": {},
   "source": [
    "ex_4"
   ]
  },
  {
   "cell_type": "code",
   "execution_count": 21,
   "id": "401d970b-6ce9-4ebe-98b3-3ecf0c543808",
   "metadata": {},
   "outputs": [
    {
     "name": "stdout",
     "output_type": "stream",
     "text": [
      "30\n"
     ]
    }
   ],
   "source": [
    "import math\n",
    "\n",
    "b= 5\n",
    "h = 6\n",
    "\n",
    "area = b * h\n",
    "\n",
    "print(area)"
   ]
  }
 ],
 "metadata": {
  "kernelspec": {
   "display_name": "anaconda-2024.02-py310",
   "language": "python",
   "name": "conda-env-anaconda-2024.02-py310-py"
  },
  "language_info": {
   "codemirror_mode": {
    "name": "ipython",
    "version": 3
   },
   "file_extension": ".py",
   "mimetype": "text/x-python",
   "name": "python",
   "nbconvert_exporter": "python",
   "pygments_lexer": "ipython3",
   "version": "3.10.14"
  }
 },
 "nbformat": 4,
 "nbformat_minor": 5
}
