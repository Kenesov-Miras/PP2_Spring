{
 "cells": [
  {
   "cell_type": "markdown",
   "id": "40fe023d-f101-4c68-92ed-4bed68f4358d",
   "metadata": {},
   "source": [
    "ex_1"
   ]
  },
  {
   "cell_type": "code",
   "execution_count": 3,
   "id": "1d70365e-75db-45ef-863e-ea703079e959",
   "metadata": {},
   "outputs": [
    {
     "name": "stdout",
     "output_type": "stream",
     "text": [
      "2025-02-07 14:49:15.785858\n"
     ]
    }
   ],
   "source": [
    "import datetime\n",
    "\n",
    "present_day  = datetime.datetime.now()\n",
    "\n",
    "new_day = present_day - datetime.timedelta(days=5)\n",
    "\n",
    "print(new_day)"
   ]
  },
  {
   "cell_type": "markdown",
   "id": "1b0a533f-8d86-4830-8730-7d9f039327f6",
   "metadata": {},
   "source": [
    "ex_2"
   ]
  },
  {
   "cell_type": "code",
   "execution_count": 6,
   "id": "c41ed536-1b97-4a4c-8a3a-c4386e083c8e",
   "metadata": {},
   "outputs": [
    {
     "name": "stdout",
     "output_type": "stream",
     "text": [
      "2025-02-11 14:55:17.798915 2025-02-12 14:55:17.798915 2025-02-13 14:55:17.798915\n"
     ]
    }
   ],
   "source": [
    "import datetime\n",
    "\n",
    "today  = datetime.datetime.now()\n",
    "\n",
    "yesterday = today - datetime.timedelta(days=1)\n",
    "\n",
    "tomorrow = today + datetime.timedelta(days=1)\n",
    "\n",
    "print(yesterday,today,tomorrow)"
   ]
  },
  {
   "cell_type": "markdown",
   "id": "09bc967e-315a-49ec-a9cf-6b8d5439f9a9",
   "metadata": {},
   "source": [
    "ex_3"
   ]
  },
  {
   "cell_type": "code",
   "execution_count": 9,
   "id": "e6b3d8e8-757f-4cc4-86ec-53914748ad19",
   "metadata": {},
   "outputs": [
    {
     "name": "stdout",
     "output_type": "stream",
     "text": [
      "2025-02-12 15:01:15\n"
     ]
    }
   ],
   "source": [
    "import datetime\n",
    "\n",
    "today  = datetime.datetime.now()\n",
    "\n",
    "print(today.strftime('%Y-%m-%d %H:%M:%S'))"
   ]
  },
  {
   "cell_type": "markdown",
   "id": "9bfcd425-113a-48ec-bd57-9197aa568355",
   "metadata": {},
   "source": [
    "ex_4"
   ]
  },
  {
   "cell_type": "code",
   "execution_count": 12,
   "id": "33ff3e4c-ce3b-461b-bae5-221108f6c014",
   "metadata": {},
   "outputs": [
    {
     "name": "stdout",
     "output_type": "stream",
     "text": [
      "11059200.0\n"
     ]
    }
   ],
   "source": [
    "import datetime\n",
    "\n",
    "date1 = datetime.datetime(2007, 5, 13)\n",
    "date2 = datetime.datetime(2007, 9, 18)\n",
    "\n",
    "difference = date2 - date1\n",
    "\n",
    "seconds_difference = difference.total_seconds()\n",
    "\n",
    "print(seconds_difference)"
   ]
  },
  {
   "cell_type": "code",
   "execution_count": null,
   "id": "290a1d05-7e5b-4239-a274-07d96d0a143c",
   "metadata": {},
   "outputs": [],
   "source": []
  }
 ],
 "metadata": {
  "kernelspec": {
   "display_name": "anaconda-2024.02-py310",
   "language": "python",
   "name": "conda-env-anaconda-2024.02-py310-py"
  },
  "language_info": {
   "codemirror_mode": {
    "name": "ipython",
    "version": 3
   },
   "file_extension": ".py",
   "mimetype": "text/x-python",
   "name": "python",
   "nbconvert_exporter": "python",
   "pygments_lexer": "ipython3",
   "version": "3.10.14"
  }
 },
 "nbformat": 4,
 "nbformat_minor": 5
}
