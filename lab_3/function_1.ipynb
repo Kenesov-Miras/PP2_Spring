{
 "cells": [
  {
   "cell_type": "markdown",
   "id": "e1e2e8f7-fb15-4762-b43a-817df01c9882",
   "metadata": {},
   "source": [
    "№1"
   ]
  },
  {
   "cell_type": "code",
   "execution_count": null,
   "id": "8a9ea720-4539-410d-af8e-f3a298fd339c",
   "metadata": {},
   "outputs": [],
   "source": [
    "def grams_to_ounces(grams):\n",
    "    return 28.3495231 * grams\n",
    "\n",
    "print(grams_to_ounces(100))  \n"
   ]
  },
  {
   "cell_type": "markdown",
   "id": "655fabfa-49e7-4fdb-a587-5d27bd7c43dc",
   "metadata": {},
   "source": [
    "№2"
   ]
  },
  {
   "cell_type": "code",
   "execution_count": null,
   "id": "8d17991d-6a29-4442-8d24-8e328b60e46d",
   "metadata": {},
   "outputs": [],
   "source": [
    "def fahrenheit_to_centigrade(fahrenheit):\n",
    "    return (5 / 9) * (fahrenheit - 32)\n",
    "\n",
    "print(fahrenheit_to_centigrade(100))  \n"
   ]
  },
  {
   "cell_type": "markdown",
   "id": "fee01a97-1eca-4e5d-9a5c-2c83bdb654eb",
   "metadata": {},
   "source": [
    "№3"
   ]
  },
  {
   "cell_type": "code",
   "execution_count": null,
   "id": "c78d08df-870f-494a-8a68-05f5796267b6",
   "metadata": {},
   "outputs": [],
   "source": [
    "def solve(numheads, numlegs):\n",
    "    x = (numlegs - 4 * numheads) // 2\n",
    "    y = numheads - x\n",
    "    return x, y\n",
    "\n",
    "# Example usage:\n",
    "print(solve(35, 94))  # Solves the puzzle for 35 heads and 94 legs\n"
   ]
  },
  {
   "cell_type": "markdown",
   "id": "f5ec66a8-36cb-4400-9577-19c7adaa98e3",
   "metadata": {},
   "source": [
    "№4"
   ]
  },
  {
   "cell_type": "code",
   "execution_count": null,
   "id": "cbb26043-1a96-4727-9962-9e982437c18f",
   "metadata": {},
   "outputs": [],
   "source": [
    "def is_prime(n):\n",
    "    if n <= 1:\n",
    "        return False\n",
    "    for i in range(2, int(n ** 0.5) + 1):\n",
    "        if n % i == 0:\n",
    "            return False\n",
    "    return True\n",
    "\n",
    "def filter_prime(nums):\n",
    "    return [num for num in nums if is_prime(num)]\n",
    "\n",
    "print(filter_prime([1, 2, 3, 4, 5, 6])) \n"
   ]
  },
  {
   "cell_type": "markdown",
   "id": "be65f490-0875-486f-8f1a-f07aab9dcd11",
   "metadata": {},
   "source": [
    "№5"
   ]
  },
  {
   "cell_type": "code",
   "execution_count": null,
   "id": "1817f7cc-22ea-462a-b5ef-33843637f1a4",
   "metadata": {},
   "outputs": [],
   "source": [
    "import itertools\n",
    "\n",
    "def string_permutations(s):\n",
    "    return [''.join(p) for p in itertools.permutations(s)]\n",
    "\n",
    "print(string_permutations(\"abc\"))  \n"
   ]
  },
  {
   "cell_type": "markdown",
   "id": "5de245b8-d8c0-460c-9605-0edabc74e57b",
   "metadata": {},
   "source": [
    "№6"
   ]
  },
  {
   "cell_type": "code",
   "execution_count": null,
   "id": "4cef7169-5a3f-42ed-9c6a-27e838cb9360",
   "metadata": {},
   "outputs": [],
   "source": [
    "def reverse_sentence(sentence):\n",
    "    words = sentence.split()\n",
    "    return ' '.join(reversed(words))\n",
    "\n",
    "print(reverse_sentence(\"We are ready\")) \n"
   ]
  },
  {
   "cell_type": "markdown",
   "id": "f16506bf-6c64-40b8-82ce-d9addd408c3c",
   "metadata": {},
   "source": [
    "№7"
   ]
  },
  {
   "cell_type": "code",
   "execution_count": null,
   "id": "e18f364b-2d3a-4147-82a4-e6d426590e49",
   "metadata": {},
   "outputs": [],
   "source": [
    "def has_33(nums):\n",
    "    for i in range(len(nums) - 1):\n",
    "        if nums[i] == 3 and nums[i + 1] == 3:\n",
    "            return True\n",
    "    return False\n",
    "\n",
    "print(has_33([1, 3, 3]))  \n",
    "print(has_33([1, 3, 1, 3]))\n",
    "print(has_33([3, 1, 3]))"
   ]
  },
  {
   "cell_type": "markdown",
   "id": "69454ef9-961d-4645-bc3c-998fe5bf3f7d",
   "metadata": {},
   "source": [
    "№8"
   ]
  },
  {
   "cell_type": "code",
   "execution_count": null,
   "id": "439bbaf5-8e5d-498a-8415-fea9939c27ae",
   "metadata": {},
   "outputs": [],
   "source": [
    "def spy_game(nums):\n",
    "    code = [0, 0, 7]\n",
    "    index = 0\n",
    "    for num in nums:\n",
    "        if num == code[index]:\n",
    "            index += 1\n",
    "        if index == 3:\n",
    "            return True\n",
    "    return False\n",
    "\n",
    "print(spy_game([1, 2, 4, 0, 0, 7, 5]))  \n",
    "print(spy_game([1, 7, 2, 0, 4, 5, 0]))  \n",
    "print(spy_game([1, 7, 2 ,0 ,4 ,5 ,0]))"
   ]
  },
  {
   "cell_type": "markdown",
   "id": "35fa134a-fcff-4b91-aac7-6a15c34a1905",
   "metadata": {},
   "source": [
    "№9"
   ]
  },
  {
   "cell_type": "code",
   "execution_count": null,
   "id": "ce99d430-fc34-47c4-a8b3-96df7cee6bcd",
   "metadata": {},
   "outputs": [],
   "source": [
    "import math\n",
    "\n",
    "def sphere_volume(radius):\n",
    "    return (4/3) * math.pi * (radius ** 3)\n",
    "\n",
    "print(sphere_volume(5)) \n"
   ]
  },
  {
   "cell_type": "markdown",
   "id": "8fbf2d19-7359-452e-b8d4-6788c8668ac2",
   "metadata": {},
   "source": [
    "№10"
   ]
  },
  {
   "cell_type": "code",
   "execution_count": null,
   "id": "71673376-edf2-4bda-9bf1-512ad075ff26",
   "metadata": {},
   "outputs": [],
   "source": [
    "def unique_elements(lst):\n",
    "    return [x for i, x in enumerate(lst) if x not in lst[:i]]\n",
    "\n",
    "print(unique_elements([1, 2, 3, 3, 4]))  \n"
   ]
  },
  {
   "cell_type": "markdown",
   "id": "cf186849-720e-415d-8722-44ebf342ad28",
   "metadata": {},
   "source": [
    "№11"
   ]
  },
  {
   "cell_type": "code",
   "execution_count": null,
   "id": "3ad9edd2-2433-4954-a639-8cde92acff9e",
   "metadata": {},
   "outputs": [],
   "source": [
    "def is_palindrome(s):\n",
    "    s = s.replace(\" \", \"\").lower() \n",
    "    return s == s[::-1]\n",
    "\n",
    "print(is_palindrome(\"madam\"))  \n",
    "print(is_palindrome(\"hello\"))  "
   ]
  },
  {
   "cell_type": "markdown",
   "id": "211dbdf8-7b70-491a-82b5-5d898ed08f0e",
   "metadata": {},
   "source": [
    "№12"
   ]
  },
  {
   "cell_type": "code",
   "execution_count": null,
   "id": "91df6e4f-ff41-44a7-8d44-fe4b22b522dd",
   "metadata": {},
   "outputs": [],
   "source": [
    "def histogram(lst):\n",
    "    for num in lst:\n",
    "        print('*' * num)\n",
    "\n",
    "histogram([4, 9, 7])  "
   ]
  },
  {
   "cell_type": "markdown",
   "id": "367cae0a-923a-41f5-a1d4-ec96d738081c",
   "metadata": {},
   "source": [
    "№13"
   ]
  },
  {
   "cell_type": "code",
   "execution_count": null,
   "id": "f5e6205d-aeeb-4397-864b-d55ea253a674",
   "metadata": {},
   "outputs": [],
   "source": [
    "import random\n",
    "\n",
    "def guess_the_number():\n",
    "    print(\"Hello! What is your name?\")\n",
    "    name = input()\n",
    "\n",
    "    print(f\"Well, {name}, I am thinking of a number between 1 and 20.\")\n",
    "    number_to_guess = random.randint(1, 20)\n",
    "    guesses_taken = 0\n",
    "\n",
    "    while True:\n",
    "        print(\"Take a guess.\")\n",
    "        guess = int(input())\n",
    "        guesses_taken += 1\n",
    "\n",
    "        if guess < number_to_guess:\n",
    "            print(\"Your guess is too low.\")\n",
    "        elif guess > number_to_guess:\n",
    "            print(\"Your guess is too high.\")\n",
    "        else:\n",
    "            print(f\"Good job, {name}! You guessed my number in {guesses_taken} guesses!\")\n",
    "            break\n",
    "\n",
    "guess_the_number()  \n"
   ]
  }
 ],
 "metadata": {
  "kernelspec": {
   "display_name": "anaconda-2024.02-py310",
   "language": "python",
   "name": "conda-env-anaconda-2024.02-py310-py"
  },
  "language_info": {
   "name": ""
  }
 },
 "nbformat": 4,
 "nbformat_minor": 5
}
