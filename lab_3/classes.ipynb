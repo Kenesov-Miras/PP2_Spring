{
 "cells": [
  {
   "cell_type": "markdown",
   "id": "b374f429-bb9b-4ff1-b5f1-cd6b8133c359",
   "metadata": {},
   "source": [
    "№1"
   ]
  },
  {
   "cell_type": "code",
   "execution_count": null,
   "id": "de0c894b-ba70-4c87-b238-e992c7bbfe33",
   "metadata": {},
   "outputs": [],
   "source": [
    "class MyString:\n",
    "    def getString(self):\n",
    "        self.input_string = input(\"Enter a string: \")\n",
    "    \n",
    "    def printString(self):\n",
    "        print(self.input_string.upper())\n",
    "\n",
    "string_obj = MyString()\n",
    "string_obj.getString()\n",
    "string_obj.printString()\n"
   ]
  },
  {
   "cell_type": "markdown",
   "id": "aa599a3b-715e-4b5d-be7d-39668834acf7",
   "metadata": {},
   "source": [
    "№2\n"
   ]
  },
  {
   "cell_type": "code",
   "execution_count": null,
   "id": "345d57c1-0b01-41cd-bfe9-7ee2adf9701a",
   "metadata": {},
   "outputs": [],
   "source": [
    "class Shape:\n",
    "    def area(self):\n",
    "        return 0\n",
    "\n",
    "class Square(Shape):\n",
    "    def _init_(self, length):\n",
    "        self.length = length\n",
    "    \n",
    "    def area(self):\n",
    "        return self.length ** 2\n",
    "\n",
    "square = Square(6)\n",
    "print(square.area())"
   ]
  },
  {
   "cell_type": "markdown",
   "id": "90ec892d-b304-4222-9ee1-d7ffacd57bb8",
   "metadata": {},
   "source": [
    "№3"
   ]
  },
  {
   "cell_type": "code",
   "execution_count": null,
   "id": "14e6e891-f4f0-4c18-9235-dbbeccf70278",
   "metadata": {},
   "outputs": [],
   "source": [
    "class Rectangle(Shape):\n",
    "    def __init__(self, length, width):\n",
    "        self.length = length\n",
    "        self.width = width\n",
    "    \n",
    "    def area(self):\n",
    "        return self.length * self.width\n",
    "\n",
    "rectangle = Rectangle(4, 6)\n",
    "print(rectangle.area())\n"
   ]
  },
  {
   "cell_type": "markdown",
   "id": "052b07bc-435b-4c85-a8e3-2fbdce1591be",
   "metadata": {},
   "source": [
    "№4"
   ]
  },
  {
   "cell_type": "code",
   "execution_count": null,
   "id": "579a3a39-7e49-4a53-ad54-05ab9108bf89",
   "metadata": {},
   "outputs": [],
   "source": [
    "import math\n",
    "\n",
    "class Point:\n",
    "    def __init__(self, x, y):\n",
    "        self.x = x\n",
    "        self.y = y\n",
    "    \n",
    "    def show(self):\n",
    "        print(f\"({self.x}, {self.y})\")\n",
    "    \n",
    "    def move(self, new_x, new_y):\n",
    "        self.x = new_x\n",
    "        self.y = new_y\n",
    "    \n",
    "    def dist(self, other_point):\n",
    "        return math.sqrt((self.x - other_point.x) ** 2 + (self.y - other_point.y) ** 2)\n",
    "\n",
    "point1 = Point(0, 0)\n",
    "point1.show()\n"
   ]
  },
  {
   "cell_type": "markdown",
   "id": "f4f94123-c07c-421c-af76-c6a2ac54e8a6",
   "metadata": {},
   "source": [
    "№5"
   ]
  },
  {
   "cell_type": "code",
   "execution_count": null,
   "id": "3b3ba9c4-6ae6-46a4-8faf-c81ecbce8fc3",
   "metadata": {},
   "outputs": [],
   "source": [
    "class Account:\n",
    "    def __init__(self, owner, balance):\n",
    "        self.owner = owner\n",
    "        self.balance = balance\n",
    "    \n",
    "    def deposit(self, amount):\n",
    "        self.balance += amount\n",
    "    \n",
    "    def withdraw(self, amount):\n",
    "        if amount <= self.balance:\n",
    "            self.balance -= amount\n",
    "        else:\n",
    "            print(\"Insufficient balance!\")\n",
    "\n",
    "account = Account(\"Alice\", 1000)\n",
    "account.deposit(500)\n",
    "account.withdraw(200)\n",
    "account.withdraw(1500)\n",
    "print(account.balance)\n"
   ]
  },
  {
   "cell_type": "markdown",
   "id": "18805011-ffcf-4dc5-82cf-ee8417b31159",
   "metadata": {},
   "source": [
    "№6"
   ]
  },
  {
   "cell_type": "code",
   "execution_count": null,
   "id": "35481ebc-5895-4b80-817b-6ac740d304a7",
   "metadata": {},
   "outputs": [],
   "source": [
    "numbers = [1, 2, 3, 4, 5, 6, 7, 8, 9, 10]\n",
    "prime_numbers = list(filter(lambda x: x > 1 and all(x % i != 0 for i in range(2, int(x**0.5) + 1)), numbers))\n",
    "print(prime_numbers)"
   ]
  }
 ],
 "metadata": {
  "kernelspec": {
   "display_name": "anaconda-2024.02-py310",
   "language": "python",
   "name": "conda-env-anaconda-2024.02-py310-py"
  },
  "language_info": {
   "codemirror_mode": {
    "name": "ipython",
    "version": 3
   },
   "file_extension": ".py",
   "mimetype": "text/x-python",
   "name": "python",
   "nbconvert_exporter": "python",
   "pygments_lexer": "ipython3",
   "version": "3.10.14"
  }
 },
 "nbformat": 4,
 "nbformat_minor": 5
}
